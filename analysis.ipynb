{
 "cells": [
  {
   "cell_type": "markdown",
   "metadata": {},
   "source": [
    "# GPU Monitoring\n",
    "..."
   ]
  },
  {
   "cell_type": "markdown",
   "metadata": {},
   "source": [
    "## Load Data into Dataframes"
   ]
  },
  {
   "cell_type": "code",
   "execution_count": 55,
   "metadata": {},
   "outputs": [
    {
     "name": "stdout",
     "output_type": "stream",
     "text": [
      "Requirement already satisfied: pandas in /Library/Frameworks/Python.framework/Versions/3.11/lib/python3.11/site-packages (2.2.0)\n",
      "Requirement already satisfied: numpy<2,>=1.23.2 in /Library/Frameworks/Python.framework/Versions/3.11/lib/python3.11/site-packages (from pandas) (1.26.1)\n",
      "Requirement already satisfied: python-dateutil>=2.8.2 in /Library/Frameworks/Python.framework/Versions/3.11/lib/python3.11/site-packages (from pandas) (2.8.2)\n",
      "Requirement already satisfied: pytz>=2020.1 in /Library/Frameworks/Python.framework/Versions/3.11/lib/python3.11/site-packages (from pandas) (2024.1)\n",
      "Requirement already satisfied: tzdata>=2022.7 in /Library/Frameworks/Python.framework/Versions/3.11/lib/python3.11/site-packages (from pandas) (2023.4)\n",
      "Requirement already satisfied: six>=1.5 in /Library/Frameworks/Python.framework/Versions/3.11/lib/python3.11/site-packages (from python-dateutil>=2.8.2->pandas) (1.16.0)\n",
      "\n",
      "\u001b[1m[\u001b[0m\u001b[34;49mnotice\u001b[0m\u001b[1;39;49m]\u001b[0m\u001b[39;49m A new release of pip is available: \u001b[0m\u001b[31;49m23.1.2\u001b[0m\u001b[39;49m -> \u001b[0m\u001b[32;49m24.0\u001b[0m\n",
      "\u001b[1m[\u001b[0m\u001b[34;49mnotice\u001b[0m\u001b[1;39;49m]\u001b[0m\u001b[39;49m To update, run: \u001b[0m\u001b[32;49mpython3.11 -m pip install --upgrade pip\u001b[0m\n",
      "Note: you may need to restart the kernel to use updated packages.\n",
      "Collecting matplotlib\n",
      "  Using cached matplotlib-3.8.2-cp311-cp311-macosx_10_12_x86_64.whl (7.6 MB)\n",
      "Collecting contourpy>=1.0.1 (from matplotlib)\n",
      "  Using cached contourpy-1.2.0-cp311-cp311-macosx_10_9_x86_64.whl (258 kB)\n",
      "Collecting cycler>=0.10 (from matplotlib)\n",
      "  Using cached cycler-0.12.1-py3-none-any.whl (8.3 kB)\n",
      "Collecting fonttools>=4.22.0 (from matplotlib)\n",
      "  Downloading fonttools-4.48.1-cp311-cp311-macosx_10_9_x86_64.whl (2.3 MB)\n",
      "\u001b[2K     \u001b[90m━━━━━━━━━━━━━━━━━━━━━━━━━━━━━━━━━━━━━━━━\u001b[0m \u001b[32m2.3/2.3 MB\u001b[0m \u001b[31m3.1 MB/s\u001b[0m eta \u001b[36m0:00:00\u001b[0m00:01\u001b[0m00:01\u001b[0m\n",
      "\u001b[?25hCollecting kiwisolver>=1.3.1 (from matplotlib)\n",
      "  Using cached kiwisolver-1.4.5-cp311-cp311-macosx_10_9_x86_64.whl (68 kB)\n",
      "Requirement already satisfied: numpy<2,>=1.21 in /Library/Frameworks/Python.framework/Versions/3.11/lib/python3.11/site-packages (from matplotlib) (1.26.1)\n",
      "Requirement already satisfied: packaging>=20.0 in /Library/Frameworks/Python.framework/Versions/3.11/lib/python3.11/site-packages (from matplotlib) (23.2)\n",
      "Collecting pillow>=8 (from matplotlib)\n",
      "  Using cached pillow-10.2.0-cp311-cp311-macosx_10_10_x86_64.whl (3.5 MB)\n",
      "Collecting pyparsing>=2.3.1 (from matplotlib)\n",
      "  Using cached pyparsing-3.1.1-py3-none-any.whl (103 kB)\n",
      "Requirement already satisfied: python-dateutil>=2.7 in /Library/Frameworks/Python.framework/Versions/3.11/lib/python3.11/site-packages (from matplotlib) (2.8.2)\n",
      "Requirement already satisfied: six>=1.5 in /Library/Frameworks/Python.framework/Versions/3.11/lib/python3.11/site-packages (from python-dateutil>=2.7->matplotlib) (1.16.0)\n",
      "Installing collected packages: pyparsing, pillow, kiwisolver, fonttools, cycler, contourpy, matplotlib\n",
      "Successfully installed contourpy-1.2.0 cycler-0.12.1 fonttools-4.48.1 kiwisolver-1.4.5 matplotlib-3.8.2 pillow-10.2.0 pyparsing-3.1.1\n",
      "\n",
      "\u001b[1m[\u001b[0m\u001b[34;49mnotice\u001b[0m\u001b[1;39;49m]\u001b[0m\u001b[39;49m A new release of pip is available: \u001b[0m\u001b[31;49m23.1.2\u001b[0m\u001b[39;49m -> \u001b[0m\u001b[32;49m24.0\u001b[0m\n",
      "\u001b[1m[\u001b[0m\u001b[34;49mnotice\u001b[0m\u001b[1;39;49m]\u001b[0m\u001b[39;49m To update, run: \u001b[0m\u001b[32;49mpython3.11 -m pip install --upgrade pip\u001b[0m\n",
      "Note: you may need to restart the kernel to use updated packages.\n"
     ]
    }
   ],
   "source": [
    "%pip install pandas\n",
    "%pip install matplotlib\n"
   ]
  },
  {
   "cell_type": "code",
   "execution_count": 93,
   "metadata": {},
   "outputs": [],
   "source": [
    "import sqlite3\n",
    "import pandas as pd\n",
    "\n",
    "connection = sqlite3.connect(\"data/gpu_monitor.db\")\n",
    "\n",
    "gpu_infos: pd.DataFrame = pd.read_sql_query(\"SELECT * FROM 'gpu_infos';\", connection)\n",
    "process_infos: pd.DataFrame = pd.read_sql_query(\"SELECT * FROM 'process_infos';\", connection)\n",
    "\n",
    "connection.close()"
   ]
  },
  {
   "cell_type": "code",
   "execution_count": 19,
   "metadata": {},
   "outputs": [],
   "source": [
    "from datetime import datetime\n",
    "import re\n",
    "\n",
    "month_pattern = re.compile(\"[A-Z][a-z]{2}\")\n",
    "\n",
    "def split_process_infos(text: str) -> pd.Series:\n",
    "    # text contains fields for %mem=,%cpu=,user=,stat=,bsdstart=,bsdtime=,cmd=\n",
    "    components = text.strip().split()\n",
    "\n",
    "    memory_percentage = float(components[0])\n",
    "    cpu_percentage = float(components[1])\n",
    "    user = components[2]\n",
    "    status = components[3]\n",
    "    \n",
    "    # From the ps man page: If the process was started less than 24 hours ago, the\n",
    "    # output format is \" HH:MM\", else it is \"Mmm:SS\" (where Mmm is the three letters \n",
    "    # of the month).\n",
    "    if month_pattern.match(components[4]):\n",
    "        created_at = \" \".join(components[4:6])\n",
    "\n",
    "        # From the ps man page: [bsdtime is] accumulated cpu time, user + system.  The\n",
    "        # display format is usually \"MMM:SS\"\n",
    "        cpu_time = components[6]\n",
    "        \n",
    "        cmd = \" \".join(components[7:])\n",
    "    else:\n",
    "        created_at = components[4]\n",
    "\n",
    "        # From the ps man page: [bsdtime is] accumulated cpu time, user + system.  The\n",
    "        # display format is usually \"MMM:SS\"\n",
    "        cpu_time = components[5]\n",
    "        \n",
    "        cmd = \" \".join(components[6:])\n",
    "    \n",
    "    return pd.Series([cpu_percentage, memory_percentage, user, status, created_at, cpu_time, cmd])\n",
    "\n",
    "process_infos[[\"cpu_percentage\", \"memory_percentage\", \"user\", \"status\", \"created_at\", \"cpu_time\", \"cmd\"]] = process_infos[\"pid_info\"].apply(split_process_infos)\n",
    "process_infos = process_infos.drop(columns=[\"pid_info\"])"
   ]
  },
  {
   "cell_type": "code",
   "execution_count": null,
   "metadata": {},
   "outputs": [],
   "source": [
    "# Type conversions\n",
    "\n",
    "def \n"
   ]
  },
  {
   "cell_type": "code",
   "execution_count": 20,
   "metadata": {},
   "outputs": [
    {
     "data": {
      "text/html": [
       "<div>\n",
       "<style scoped>\n",
       "    .dataframe tbody tr th:only-of-type {\n",
       "        vertical-align: middle;\n",
       "    }\n",
       "\n",
       "    .dataframe tbody tr th {\n",
       "        vertical-align: top;\n",
       "    }\n",
       "\n",
       "    .dataframe thead th {\n",
       "        text-align: right;\n",
       "    }\n",
       "</style>\n",
       "<table border=\"1\" class=\"dataframe\">\n",
       "  <thead>\n",
       "    <tr style=\"text-align: right;\">\n",
       "      <th></th>\n",
       "      <th>pid</th>\n",
       "      <th>host_id</th>\n",
       "      <th>timestamp</th>\n",
       "      <th>cpu_percentage</th>\n",
       "      <th>memory_percentage</th>\n",
       "      <th>user</th>\n",
       "      <th>created_at</th>\n",
       "      <th>cmd</th>\n",
       "      <th>cpu_time</th>\n",
       "      <th>status</th>\n",
       "    </tr>\n",
       "  </thead>\n",
       "  <tbody>\n",
       "    <tr>\n",
       "      <th>0</th>\n",
       "      <td>4164634</td>\n",
       "      <td>teach2</td>\n",
       "      <td>2024-01-29 13:37:27</td>\n",
       "      <td>1.6</td>\n",
       "      <td>8.9</td>\n",
       "      <td>root</td>\n",
       "      <td>Jan 18</td>\n",
       "      <td>/usr/local/bin/python -m ipykernel_launcher -f...</td>\n",
       "      <td>271:42</td>\n",
       "      <td>Ssl</td>\n",
       "    </tr>\n",
       "    <tr>\n",
       "      <th>1</th>\n",
       "      <td>441525</td>\n",
       "      <td>teach2</td>\n",
       "      <td>2024-01-29 13:37:27</td>\n",
       "      <td>13.1</td>\n",
       "      <td>0.8</td>\n",
       "      <td>root</td>\n",
       "      <td>Jan 26</td>\n",
       "      <td>/usr/local/bin/python -m ipykernel_launcher -f...</td>\n",
       "      <td>609:36</td>\n",
       "      <td>Ssl</td>\n",
       "    </tr>\n",
       "    <tr>\n",
       "      <th>2</th>\n",
       "      <td>1823085</td>\n",
       "      <td>teach3</td>\n",
       "      <td>2024-01-29 13:37:28</td>\n",
       "      <td>55.5</td>\n",
       "      <td>0.9</td>\n",
       "      <td>joerg</td>\n",
       "      <td>13:00</td>\n",
       "      <td>/usr/bin/python3 -m ipykernel_launcher -f /roo...</td>\n",
       "      <td>20:45</td>\n",
       "      <td>Ssl</td>\n",
       "    </tr>\n",
       "    <tr>\n",
       "      <th>3</th>\n",
       "      <td>1823085</td>\n",
       "      <td>teach3</td>\n",
       "      <td>2024-01-29 13:37:28</td>\n",
       "      <td>55.5</td>\n",
       "      <td>0.9</td>\n",
       "      <td>joerg</td>\n",
       "      <td>13:00</td>\n",
       "      <td>/usr/bin/python3 -m ipykernel_launcher -f /roo...</td>\n",
       "      <td>20:45</td>\n",
       "      <td>Ssl</td>\n",
       "    </tr>\n",
       "    <tr>\n",
       "      <th>4</th>\n",
       "      <td>4164634</td>\n",
       "      <td>teach2</td>\n",
       "      <td>2024-01-29 13:44:56</td>\n",
       "      <td>1.6</td>\n",
       "      <td>8.9</td>\n",
       "      <td>root</td>\n",
       "      <td>Jan 18</td>\n",
       "      <td>/usr/local/bin/python -m ipykernel_launcher -f...</td>\n",
       "      <td>271:42</td>\n",
       "      <td>Ssl</td>\n",
       "    </tr>\n",
       "  </tbody>\n",
       "</table>\n",
       "</div>"
      ],
      "text/plain": [
       "       pid host_id            timestamp  cpu_percentage  memory_percentage  \\\n",
       "0  4164634  teach2  2024-01-29 13:37:27             1.6                8.9   \n",
       "1   441525  teach2  2024-01-29 13:37:27            13.1                0.8   \n",
       "2  1823085  teach3  2024-01-29 13:37:28            55.5                0.9   \n",
       "3  1823085  teach3  2024-01-29 13:37:28            55.5                0.9   \n",
       "4  4164634  teach2  2024-01-29 13:44:56             1.6                8.9   \n",
       "\n",
       "    user created_at                                                cmd  \\\n",
       "0   root     Jan 18  /usr/local/bin/python -m ipykernel_launcher -f...   \n",
       "1   root     Jan 26  /usr/local/bin/python -m ipykernel_launcher -f...   \n",
       "2  joerg      13:00  /usr/bin/python3 -m ipykernel_launcher -f /roo...   \n",
       "3  joerg      13:00  /usr/bin/python3 -m ipykernel_launcher -f /roo...   \n",
       "4   root     Jan 18  /usr/local/bin/python -m ipykernel_launcher -f...   \n",
       "\n",
       "  cpu_time status  \n",
       "0   271:42    Ssl  \n",
       "1   609:36    Ssl  \n",
       "2    20:45    Ssl  \n",
       "3    20:45    Ssl  \n",
       "4   271:42    Ssl  "
      ]
     },
     "execution_count": 20,
     "metadata": {},
     "output_type": "execute_result"
    }
   ],
   "source": [
    "process_infos.head()"
   ]
  },
  {
   "cell_type": "code",
   "execution_count": 103,
   "metadata": {},
   "outputs": [
    {
     "name": "stdout",
     "output_type": "stream",
     "text": [
      "pid                    int64\n",
      "gpu_memory             int64\n",
      "host_id               object\n",
      "timestamp     datetime64[ns]\n",
      "dtype: object\n"
     ]
    },
    {
     "data": {
      "text/html": [
       "<div>\n",
       "<style scoped>\n",
       "    .dataframe tbody tr th:only-of-type {\n",
       "        vertical-align: middle;\n",
       "    }\n",
       "\n",
       "    .dataframe tbody tr th {\n",
       "        vertical-align: top;\n",
       "    }\n",
       "\n",
       "    .dataframe thead th {\n",
       "        text-align: right;\n",
       "    }\n",
       "</style>\n",
       "<table border=\"1\" class=\"dataframe\">\n",
       "  <thead>\n",
       "    <tr style=\"text-align: right;\">\n",
       "      <th></th>\n",
       "      <th>pid</th>\n",
       "      <th>gpu_memory</th>\n",
       "      <th>host_id</th>\n",
       "      <th>timestamp</th>\n",
       "    </tr>\n",
       "  </thead>\n",
       "  <tbody>\n",
       "    <tr>\n",
       "      <th>0</th>\n",
       "      <td>4164634</td>\n",
       "      <td>1711</td>\n",
       "      <td>teach2</td>\n",
       "      <td>2024-01-29 13:37:27</td>\n",
       "    </tr>\n",
       "    <tr>\n",
       "      <th>1</th>\n",
       "      <td>441525</td>\n",
       "      <td>1887</td>\n",
       "      <td>teach2</td>\n",
       "      <td>2024-01-29 13:37:27</td>\n",
       "    </tr>\n",
       "    <tr>\n",
       "      <th>2</th>\n",
       "      <td>1823085</td>\n",
       "      <td>80890</td>\n",
       "      <td>teach3</td>\n",
       "      <td>2024-01-29 13:37:28</td>\n",
       "    </tr>\n",
       "    <tr>\n",
       "      <th>3</th>\n",
       "      <td>1823085</td>\n",
       "      <td>30566</td>\n",
       "      <td>teach3</td>\n",
       "      <td>2024-01-29 13:37:28</td>\n",
       "    </tr>\n",
       "    <tr>\n",
       "      <th>4</th>\n",
       "      <td>4164634</td>\n",
       "      <td>1711</td>\n",
       "      <td>teach2</td>\n",
       "      <td>2024-01-29 13:44:56</td>\n",
       "    </tr>\n",
       "  </tbody>\n",
       "</table>\n",
       "</div>"
      ],
      "text/plain": [
       "       pid  gpu_memory host_id           timestamp\n",
       "0  4164634        1711  teach2 2024-01-29 13:37:27\n",
       "1   441525        1887  teach2 2024-01-29 13:37:27\n",
       "2  1823085       80890  teach3 2024-01-29 13:37:28\n",
       "3  1823085       30566  teach3 2024-01-29 13:37:28\n",
       "4  4164634        1711  teach2 2024-01-29 13:44:56"
      ]
     },
     "execution_count": 103,
     "metadata": {},
     "output_type": "execute_result"
    }
   ],
   "source": [
    "def remove_non_numbers(gpu_memory: str) -> str:\n",
    "    # Avoid type error if conversion has already been called\n",
    "    if type(gpu_memory) == int: \n",
    "        return gpu_memory\n",
    "    \n",
    "    return gpu_memory.split()[0]\n",
    "\n",
    "gpu_infos[\"gpu_memory\"] = gpu_infos[\"gpu_memory\"].apply(remove_non_numbers)\n",
    "gpu_infos[\"gpu_memory\"] = gpu_infos[\"gpu_memory\"].apply(pd.to_numeric)\n",
    "\n",
    "try:\n",
    "    gpu_infos[\"timestamp\"] = gpu_infos[\"timestamp\"].apply(lambda x: datetime.fromisoformat(x))\n",
    "except TypeError:\n",
    "    pass # Avoid reexecution\n",
    "\n",
    "gpu_infos.head()"
   ]
  },
  {
   "cell_type": "code",
   "execution_count": null,
   "metadata": {},
   "outputs": [],
   "source": [
    "# TODO: Parse types of timestamp and floats"
   ]
  },
  {
   "cell_type": "markdown",
   "metadata": {},
   "source": [
    "## Analyse Data\n",
    "Interesting analysis questions include:\n",
    "* In which context do gpu intensive programs run?\n",
    "* How is gpu usage distributed? (visualize over time)\n",
    "* Which resources do gpu-using processes also use? (memory, cpu)"
   ]
  },
  {
   "cell_type": "code",
   "execution_count": 106,
   "metadata": {},
   "outputs": [],
   "source": [
    "gpu_info_dict = {}\n",
    "\n",
    "hosts = gpu_infos[\"host_id\"].unique()\n",
    "for host in hosts:\n",
    "    gpu_info_dict[host] = gpu_infos.loc[gpu_infos[\"host_id\"] == host]"
   ]
  },
  {
   "cell_type": "code",
   "execution_count": 148,
   "metadata": {},
   "outputs": [
    {
     "data": {
      "image/png": "[encoded data removed]",
      "text/plain": [
       "<Figure size 640x480 with 1 Axes>"
      ]
     },
     "metadata": {},
     "output_type": "display_data"
    },
    {
     "data": {
      "image/png": "[encoded data removed]",
      "text/plain": [
       "<Figure size 640x480 with 1 Axes>"
      ]
     },
     "metadata": {},
     "output_type": "display_data"
    }
   ],
   "source": [
    "import matplotlib.pyplot as plt\n",
    "import numpy as np\n",
    "from datetime import timedelta\n",
    "\n",
    "sampling_interval = timedelta(minutes=60)\n",
    "\n",
    "for host, host_gpu_infos in gpu_info_dict.items():\n",
    "    gpu_memory_infos = host_gpu_infos[[\"timestamp\", \"gpu_memory\"]]\n",
    "\n",
    "    gpu_memory_infos = gpu_memory_infos.groupby(\"timestamp\").sum()\n",
    "\n",
    "    # Make sure timestamp is available as column name again \n",
    "    gpu_memory_infos.reset_index(inplace = True) \n",
    "    \n",
    "    gpu_memory_infos = gpu_memory_infos.set_index(\"timestamp\").resample(sampling_interval).max()\n",
    "\n",
    "    # Make sure timestamp is available as column name again \n",
    "    gpu_memory_infos.reset_index(inplace = True)\n",
    "    \n",
    "    # Resampling introduces NaN value depending on the time interval. Remove them for plotting.\n",
    "    gpu_memory_infos.dropna(subset=[\"gpu_memory\"], inplace=True)\n",
    "    \n",
    "    ax = plt.subplot()\n",
    "    ax.plot(gpu_memory_infos[\"timestamp\"], gpu_memory_infos[\"gpu_memory\"])\n",
    "    ax.xaxis_date()\n",
    "\n",
    "    plt.show()"
   ]
  },
  {
   "cell_type": "code",
   "execution_count": 110,
   "metadata": {},
   "outputs": [
    {
     "data": {
      "text/html": [
       "<div>\n",
       "<style scoped>\n",
       "    .dataframe tbody tr th:only-of-type {\n",
       "        vertical-align: middle;\n",
       "    }\n",
       "\n",
       "    .dataframe tbody tr th {\n",
       "        vertical-align: top;\n",
       "    }\n",
       "\n",
       "    .dataframe thead th {\n",
       "        text-align: right;\n",
       "    }\n",
       "</style>\n",
       "<table border=\"1\" class=\"dataframe\">\n",
       "  <thead>\n",
       "    <tr style=\"text-align: right;\">\n",
       "      <th></th>\n",
       "      <th>timestamp</th>\n",
       "      <th>gpu_memory</th>\n",
       "    </tr>\n",
       "  </thead>\n",
       "  <tbody>\n",
       "    <tr>\n",
       "      <th>2</th>\n",
       "      <td>2024-01-29 13:37:28</td>\n",
       "      <td>80890</td>\n",
       "    </tr>\n",
       "    <tr>\n",
       "      <th>3</th>\n",
       "      <td>2024-01-29 13:37:28</td>\n",
       "      <td>30566</td>\n",
       "    </tr>\n",
       "    <tr>\n",
       "      <th>6</th>\n",
       "      <td>2024-01-29 13:44:57</td>\n",
       "      <td>80894</td>\n",
       "    </tr>\n",
       "    <tr>\n",
       "      <th>9</th>\n",
       "      <td>2024-01-29 13:45:26</td>\n",
       "      <td>81088</td>\n",
       "    </tr>\n",
       "    <tr>\n",
       "      <th>12</th>\n",
       "      <td>2024-01-29 13:45:56</td>\n",
       "      <td>81088</td>\n",
       "    </tr>\n",
       "  </tbody>\n",
       "</table>\n",
       "</div>"
      ],
      "text/plain": [
       "             timestamp  gpu_memory\n",
       "2  2024-01-29 13:37:28       80890\n",
       "3  2024-01-29 13:37:28       30566\n",
       "6  2024-01-29 13:44:57       80894\n",
       "9  2024-01-29 13:45:26       81088\n",
       "12 2024-01-29 13:45:56       81088"
      ]
     },
     "execution_count": 110,
     "metadata": {},
     "output_type": "execute_result"
    }
   ],
   "source": [
    "gpu_memory_infos.head()"
   ]
  },
  {
   "cell_type": "code",
   "execution_count": null,
   "metadata": {},
   "outputs": [],
   "source": []
  }
 ],
 "metadata": {
  "kernelspec": {
   "display_name": "Python 3 (ipykernel)",
   "language": "python",
   "name": "python3"
  },
  "language_info": {
   "codemirror_mode": {
    "name": "ipython",
    "version": 3
   },
   "file_extension": ".py",
   "mimetype": "text/x-python",
   "name": "python",
   "nbconvert_exporter": "python",
   "pygments_lexer": "ipython3",
   "version": "3.11.3"
  }
 },
 "nbformat": 4,
 "nbformat_minor": 4
}
