{
 "cells": [
  {
   "cell_type": "markdown",
   "metadata": {},
   "source": [
    "# GPU Monitoring\n",
    "..."
   ]
  },
  {
   "cell_type": "markdown",
   "metadata": {},
   "source": [
    "## Load Data into Dataframes"
   ]
  },
  {
   "cell_type": "code",
   "execution_count": 5,
   "metadata": {},
   "outputs": [
    {
     "name": "stdout",
     "output_type": "stream",
     "text": [
      "Collecting pandas\n",
      "  Using cached pandas-2.2.0-cp311-cp311-macosx_10_9_x86_64.whl (12.5 MB)\n",
      "Requirement already satisfied: numpy<2,>=1.23.2 in /Library/Frameworks/Python.framework/Versions/3.11/lib/python3.11/site-packages (from pandas) (1.26.1)\n",
      "Requirement already satisfied: python-dateutil>=2.8.2 in /Library/Frameworks/Python.framework/Versions/3.11/lib/python3.11/site-packages (from pandas) (2.8.2)\n",
      "Collecting pytz>=2020.1 (from pandas)\n",
      "  Using cached pytz-2024.1-py2.py3-none-any.whl (505 kB)\n",
      "Collecting tzdata>=2022.7 (from pandas)\n",
      "  Using cached tzdata-2023.4-py2.py3-none-any.whl (346 kB)\n",
      "Requirement already satisfied: six>=1.5 in /Library/Frameworks/Python.framework/Versions/3.11/lib/python3.11/site-packages (from python-dateutil>=2.8.2->pandas) (1.16.0)\n",
      "Installing collected packages: pytz, tzdata, pandas\n",
      "Successfully installed pandas-2.2.0 pytz-2024.1 tzdata-2023.4\n",
      "\n",
      "\u001b[1m[\u001b[0m\u001b[34;49mnotice\u001b[0m\u001b[1;39;49m]\u001b[0m\u001b[39;49m A new release of pip is available: \u001b[0m\u001b[31;49m23.1.2\u001b[0m\u001b[39;49m -> \u001b[0m\u001b[32;49m24.0\u001b[0m\n",
      "\u001b[1m[\u001b[0m\u001b[34;49mnotice\u001b[0m\u001b[1;39;49m]\u001b[0m\u001b[39;49m To update, run: \u001b[0m\u001b[32;49mpython3.11 -m pip install --upgrade pip\u001b[0m\n",
      "Note: you may need to restart the kernel to use updated packages.\n"
     ]
    }
   ],
   "source": [
    "%pip install pandas\n"
   ]
  },
  {
   "cell_type": "code",
   "execution_count": 10,
   "metadata": {},
   "outputs": [],
   "source": [
    "import sqlite3\n",
    "import pandas as pd\n",
    "\n",
    "connection = sqlite3.connect(\"data/gpu_monitor.db\")\n",
    "\n",
    "gpu_infos: pd.DataFrame = pd.read_sql_query(\"SELECT * FROM 'gpu_infos';\", connection)\n",
    "process_infos: pd.DataFrame = pd.read_sql_query(\"SELECT * FROM 'process_infos';\", connection)\n",
    "\n",
    "connection.close()"
   ]
  },
  {
   "cell_type": "code",
   "execution_count": 33,
   "metadata": {},
   "outputs": [],
   "source": [
    "from datetime import datetime\n",
    "\n",
    "def split_process_infos(text: str) -> pd.Series:\n",
    "    components = text.strip().split()\n",
    "    cpu_percentage = float(components[0])\n",
    "    memory_percentage = float(components[1])\n",
    "    user = components[2]\n",
    "    created_at = \" \".join(components[4:7])\n",
    "    cmd = \" \".join(components[7:])\n",
    "    return pd.Series([cpu_percentage, memory_percentage, user, created_at, cmd])\n",
    "\n",
    "process_infos[[\"cpu_percentage\", \"memory_percentage\", \"user\", \"created_at\", \"cmd\"]] = process_infos[\"pid_info\"].apply(split_process_infos)"
   ]
  },
  {
   "cell_type": "code",
   "execution_count": 49,
   "metadata": {},
   "outputs": [
    {
     "data": {
      "text/html": [
       "<div>\n",
       "<style scoped>\n",
       "    .dataframe tbody tr th:only-of-type {\n",
       "        vertical-align: middle;\n",
       "    }\n",
       "\n",
       "    .dataframe tbody tr th {\n",
       "        vertical-align: top;\n",
       "    }\n",
       "\n",
       "    .dataframe thead th {\n",
       "        text-align: right;\n",
       "    }\n",
       "</style>\n",
       "<table border=\"1\" class=\"dataframe\">\n",
       "  <thead>\n",
       "    <tr style=\"text-align: right;\">\n",
       "      <th></th>\n",
       "      <th>pid</th>\n",
       "      <th>gpu_memory</th>\n",
       "      <th>host_id</th>\n",
       "      <th>timestamp</th>\n",
       "    </tr>\n",
       "  </thead>\n",
       "  <tbody>\n",
       "    <tr>\n",
       "      <th>0</th>\n",
       "      <td>4164634</td>\n",
       "      <td>1711 MiB</td>\n",
       "      <td>teach2</td>\n",
       "      <td>2024-01-29 13:37:27</td>\n",
       "    </tr>\n",
       "    <tr>\n",
       "      <th>1</th>\n",
       "      <td>441525</td>\n",
       "      <td>1887 MiB</td>\n",
       "      <td>teach2</td>\n",
       "      <td>2024-01-29 13:37:27</td>\n",
       "    </tr>\n",
       "    <tr>\n",
       "      <th>2</th>\n",
       "      <td>1823085</td>\n",
       "      <td>80890 MiB</td>\n",
       "      <td>teach3</td>\n",
       "      <td>2024-01-29 13:37:28</td>\n",
       "    </tr>\n",
       "    <tr>\n",
       "      <th>3</th>\n",
       "      <td>1823085</td>\n",
       "      <td>30566 MiB</td>\n",
       "      <td>teach3</td>\n",
       "      <td>2024-01-29 13:37:28</td>\n",
       "    </tr>\n",
       "    <tr>\n",
       "      <th>4</th>\n",
       "      <td>4164634</td>\n",
       "      <td>1711 MiB</td>\n",
       "      <td>teach2</td>\n",
       "      <td>2024-01-29 13:44:56</td>\n",
       "    </tr>\n",
       "  </tbody>\n",
       "</table>\n",
       "</div>"
      ],
      "text/plain": [
       "       pid gpu_memory host_id            timestamp\n",
       "0  4164634   1711 MiB  teach2  2024-01-29 13:37:27\n",
       "1   441525   1887 MiB  teach2  2024-01-29 13:37:27\n",
       "2  1823085  80890 MiB  teach3  2024-01-29 13:37:28\n",
       "3  1823085  30566 MiB  teach3  2024-01-29 13:37:28\n",
       "4  4164634   1711 MiB  teach2  2024-01-29 13:44:56"
      ]
     },
     "execution_count": 49,
     "metadata": {},
     "output_type": "execute_result"
    }
   ],
   "source": [
    "gpu_infos.head()"
   ]
  },
  {
   "cell_type": "code",
   "execution_count": 50,
   "metadata": {},
   "outputs": [
    {
     "data": {
      "text/html": [
       "<div>\n",
       "<style scoped>\n",
       "    .dataframe tbody tr th:only-of-type {\n",
       "        vertical-align: middle;\n",
       "    }\n",
       "\n",
       "    .dataframe tbody tr th {\n",
       "        vertical-align: top;\n",
       "    }\n",
       "\n",
       "    .dataframe thead th {\n",
       "        text-align: right;\n",
       "    }\n",
       "</style>\n",
       "<table border=\"1\" class=\"dataframe\">\n",
       "  <thead>\n",
       "    <tr style=\"text-align: right;\">\n",
       "      <th></th>\n",
       "      <th>pid</th>\n",
       "      <th>pid_info</th>\n",
       "      <th>host_id</th>\n",
       "      <th>timestamp</th>\n",
       "      <th>cpu_percentage</th>\n",
       "      <th>memory_percentage</th>\n",
       "      <th>user</th>\n",
       "      <th>created_at</th>\n",
       "      <th>cmd</th>\n",
       "    </tr>\n",
       "  </thead>\n",
       "  <tbody>\n",
       "    <tr>\n",
       "      <th>0</th>\n",
       "      <td>4164634</td>\n",
       "      <td>8.9  1.6 root     Ssl  Jan 18 271:42 /usr/loc...</td>\n",
       "      <td>teach2</td>\n",
       "      <td>2024-01-29 13:37:27</td>\n",
       "      <td>8.9</td>\n",
       "      <td>1.6</td>\n",
       "      <td>root</td>\n",
       "      <td>Jan 18 271:42</td>\n",
       "      <td>/usr/local/bin/python -m ipykernel_launcher -f...</td>\n",
       "    </tr>\n",
       "    <tr>\n",
       "      <th>1</th>\n",
       "      <td>441525</td>\n",
       "      <td>0.8 13.1 root     Ssl  Jan 26 609:36 /usr/loc...</td>\n",
       "      <td>teach2</td>\n",
       "      <td>2024-01-29 13:37:27</td>\n",
       "      <td>0.8</td>\n",
       "      <td>13.1</td>\n",
       "      <td>root</td>\n",
       "      <td>Jan 26 609:36</td>\n",
       "      <td>/usr/local/bin/python -m ipykernel_launcher -f...</td>\n",
       "    </tr>\n",
       "    <tr>\n",
       "      <th>2</th>\n",
       "      <td>1823085</td>\n",
       "      <td>0.9 55.5 joerg    Ssl   13:00  20:45 /usr/bin...</td>\n",
       "      <td>teach3</td>\n",
       "      <td>2024-01-29 13:37:28</td>\n",
       "      <td>0.9</td>\n",
       "      <td>55.5</td>\n",
       "      <td>joerg</td>\n",
       "      <td>13:00 20:45 /usr/bin/python3</td>\n",
       "      <td>-m ipykernel_launcher -f /root/.local/share/ju...</td>\n",
       "    </tr>\n",
       "    <tr>\n",
       "      <th>3</th>\n",
       "      <td>1823085</td>\n",
       "      <td>0.9 55.5 joerg    Ssl   13:00  20:45 /usr/bin...</td>\n",
       "      <td>teach3</td>\n",
       "      <td>2024-01-29 13:37:28</td>\n",
       "      <td>0.9</td>\n",
       "      <td>55.5</td>\n",
       "      <td>joerg</td>\n",
       "      <td>13:00 20:45 /usr/bin/python3</td>\n",
       "      <td>-m ipykernel_launcher -f /root/.local/share/ju...</td>\n",
       "    </tr>\n",
       "    <tr>\n",
       "      <th>4</th>\n",
       "      <td>4164634</td>\n",
       "      <td>8.9  1.6 root     Ssl  Jan 18 271:42 /usr/loc...</td>\n",
       "      <td>teach2</td>\n",
       "      <td>2024-01-29 13:44:56</td>\n",
       "      <td>8.9</td>\n",
       "      <td>1.6</td>\n",
       "      <td>root</td>\n",
       "      <td>Jan 18 271:42</td>\n",
       "      <td>/usr/local/bin/python -m ipykernel_launcher -f...</td>\n",
       "    </tr>\n",
       "  </tbody>\n",
       "</table>\n",
       "</div>"
      ],
      "text/plain": [
       "       pid                                           pid_info host_id  \\\n",
       "0  4164634   8.9  1.6 root     Ssl  Jan 18 271:42 /usr/loc...  teach2   \n",
       "1   441525   0.8 13.1 root     Ssl  Jan 26 609:36 /usr/loc...  teach2   \n",
       "2  1823085   0.9 55.5 joerg    Ssl   13:00  20:45 /usr/bin...  teach3   \n",
       "3  1823085   0.9 55.5 joerg    Ssl   13:00  20:45 /usr/bin...  teach3   \n",
       "4  4164634   8.9  1.6 root     Ssl  Jan 18 271:42 /usr/loc...  teach2   \n",
       "\n",
       "             timestamp  cpu_percentage  memory_percentage   user  \\\n",
       "0  2024-01-29 13:37:27             8.9                1.6   root   \n",
       "1  2024-01-29 13:37:27             0.8               13.1   root   \n",
       "2  2024-01-29 13:37:28             0.9               55.5  joerg   \n",
       "3  2024-01-29 13:37:28             0.9               55.5  joerg   \n",
       "4  2024-01-29 13:44:56             8.9                1.6   root   \n",
       "\n",
       "                     created_at  \\\n",
       "0                 Jan 18 271:42   \n",
       "1                 Jan 26 609:36   \n",
       "2  13:00 20:45 /usr/bin/python3   \n",
       "3  13:00 20:45 /usr/bin/python3   \n",
       "4                 Jan 18 271:42   \n",
       "\n",
       "                                                 cmd  \n",
       "0  /usr/local/bin/python -m ipykernel_launcher -f...  \n",
       "1  /usr/local/bin/python -m ipykernel_launcher -f...  \n",
       "2  -m ipykernel_launcher -f /root/.local/share/ju...  \n",
       "3  -m ipykernel_launcher -f /root/.local/share/ju...  \n",
       "4  /usr/local/bin/python -m ipykernel_launcher -f...  "
      ]
     },
     "execution_count": 50,
     "metadata": {},
     "output_type": "execute_result"
    }
   ],
   "source": [
    "process_infos.head()"
   ]
  },
  {
   "cell_type": "code",
   "execution_count": null,
   "metadata": {},
   "outputs": [],
   "source": [
    "# TODO: Parse types of timestamp and floats"
   ]
  },
  {
   "cell_type": "markdown",
   "metadata": {},
   "source": [
    "## Analyse Data\n",
    "Interesting analysis questions include:\n",
    "* In which context do gpu intensive programs run?\n",
    "* How is gpu usage distributed? (visualize over time)\n",
    "* Which resources do gpu-using processes also use? (memory, cpu)\n",
    "* ¬¬¬¬¬¬"
   ]
  },
  {
   "cell_type": "code",
   "execution_count": null,
   "metadata": {},
   "outputs": [],
   "source": []
  }
 ],
 "metadata": {
  "kernelspec": {
   "display_name": "Python 3 (ipykernel)",
   "language": "python",
   "name": "python3"
  },
  "language_info": {
   "codemirror_mode": {
    "name": "ipython",
    "version": 3
   },
   "file_extension": ".py",
   "mimetype": "text/x-python",
   "name": "python",
   "nbconvert_exporter": "python",
   "pygments_lexer": "ipython3",
   "version": "3.11.3"
  }
 },
 "nbformat": 4,
 "nbformat_minor": 4
}
