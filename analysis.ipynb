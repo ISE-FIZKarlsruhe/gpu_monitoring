{
 "cells": [
  {
   "cell_type": "markdown",
   "metadata": {},
   "source": [
    "# GPU Monitoring\n",
    "..."
   ]
  },
  {
   "cell_type": "markdown",
   "metadata": {},
   "source": [
    "## Load Data into Dataframes"
   ]
  },
  {
   "cell_type": "code",
   "execution_count": 1,
   "metadata": {},
   "outputs": [
    {
     "name": "stdout",
     "output_type": "stream",
     "text": [
      "Requirement already satisfied: pandas in /Library/Frameworks/Python.framework/Versions/3.11/lib/python3.11/site-packages (2.2.0)\n",
      "Requirement already satisfied: numpy<2,>=1.23.2 in /Library/Frameworks/Python.framework/Versions/3.11/lib/python3.11/site-packages (from pandas) (1.26.1)\n",
      "Requirement already satisfied: python-dateutil>=2.8.2 in /Library/Frameworks/Python.framework/Versions/3.11/lib/python3.11/site-packages (from pandas) (2.8.2)\n",
      "Requirement already satisfied: pytz>=2020.1 in /Library/Frameworks/Python.framework/Versions/3.11/lib/python3.11/site-packages (from pandas) (2024.1)\n",
      "Requirement already satisfied: tzdata>=2022.7 in /Library/Frameworks/Python.framework/Versions/3.11/lib/python3.11/site-packages (from pandas) (2023.4)\n",
      "Requirement already satisfied: six>=1.5 in /Library/Frameworks/Python.framework/Versions/3.11/lib/python3.11/site-packages (from python-dateutil>=2.8.2->pandas) (1.16.0)\n",
      "\n",
      "\u001b[1m[\u001b[0m\u001b[34;49mnotice\u001b[0m\u001b[1;39;49m]\u001b[0m\u001b[39;49m A new release of pip is available: \u001b[0m\u001b[31;49m23.1.2\u001b[0m\u001b[39;49m -> \u001b[0m\u001b[32;49m24.0\u001b[0m\n",
      "\u001b[1m[\u001b[0m\u001b[34;49mnotice\u001b[0m\u001b[1;39;49m]\u001b[0m\u001b[39;49m To update, run: \u001b[0m\u001b[32;49mpython3.11 -m pip install --upgrade pip\u001b[0m\n",
      "Note: you may need to restart the kernel to use updated packages.\n"
     ]
    }
   ],
   "source": [
    "%pip install pandas\n"
   ]
  },
  {
   "cell_type": "code",
   "execution_count": 2,
   "metadata": {},
   "outputs": [
    {
     "name": "stderr",
     "output_type": "stream",
     "text": [
      "/var/folders/8q/rp8w2yvx1wq18fndqwtvqx340000gn/T/ipykernel_26640/1689089018.py:2: DeprecationWarning: \n",
      "Pyarrow will become a required dependency of pandas in the next major release of pandas (pandas 3.0),\n",
      "(to allow more performant data types, such as the Arrow string type, and better interoperability with other libraries)\n",
      "but was not found to be installed on your system.\n",
      "If this would cause problems for you,\n",
      "please provide us feedback at https://github.com/pandas-dev/pandas/issues/54466\n",
      "        \n",
      "  import pandas as pd\n"
     ]
    }
   ],
   "source": [
    "import sqlite3\n",
    "import pandas as pd\n",
    "\n",
    "connection = sqlite3.connect(\"data/gpu_monitor.db\")\n",
    "\n",
    "gpu_infos: pd.DataFrame = pd.read_sql_query(\"SELECT * FROM 'gpu_infos';\", connection)\n",
    "process_infos: pd.DataFrame = pd.read_sql_query(\"SELECT * FROM 'process_infos';\", connection)\n",
    "\n",
    "connection.close()"
   ]
  },
  {
   "cell_type": "code",
   "execution_count": 15,
   "metadata": {},
   "outputs": [],
   "source": [
    "from datetime import datetime\n",
    "import re\n",
    "\n",
    "month_pattern = re.compile(\"[A-Z][a-z]{2}\")\n",
    "\n",
    "def split_process_infos(text: str) -> pd.Series:\n",
    "    # text contains fields for %mem=,%cpu=,user=,stat=,bsdstart=,bsdtime=,cmd=\n",
    "    components = text.strip().split()\n",
    "\n",
    "    memory_percentage = float(components[0])\n",
    "    cpu_percentage = float(components[1])\n",
    "    user = components[2]\n",
    "    status = components[3]\n",
    "    \n",
    "    # From the ps man page: If the process was started less than 24 hours ago, the\n",
    "    # output format is \" HH:MM\", else it is \"Mmm:SS\" (where Mmm is the three letters \n",
    "    # of the month).\n",
    "    if month_pattern.match(components[4]):\n",
    "    \n",
    "    created_at = \" \".join(components[4:6])\n",
    "\n",
    "    # From the ps man page: [bsdtime is] accumulated cpu time, user + system.  The\n",
    "    # display format is usually \"MMM:SS\"\n",
    "    cpu_time = components[6]\n",
    "    \n",
    "    cmd = \" \".join(components[7:])\n",
    "    return pd.Series([cpu_percentage, memory_percentage, user, status, created_at, cpu_time, cmd])\n",
    "\n",
    "process_infos[[\"cpu_percentage\", \"memory_percentage\", \"user\", \"status\", \"created_at\", \"cpu_time\", \"cmd\"]] = process_infos[\"pid_info\"].apply(split_process_infos)"
   ]
  },
  {
   "cell_type": "code",
   "execution_count": 16,
   "metadata": {},
   "outputs": [
    {
     "data": {
      "text/html": [
       "<div>\n",
       "<style scoped>\n",
       "    .dataframe tbody tr th:only-of-type {\n",
       "        vertical-align: middle;\n",
       "    }\n",
       "\n",
       "    .dataframe tbody tr th {\n",
       "        vertical-align: top;\n",
       "    }\n",
       "\n",
       "    .dataframe thead th {\n",
       "        text-align: right;\n",
       "    }\n",
       "</style>\n",
       "<table border=\"1\" class=\"dataframe\">\n",
       "  <thead>\n",
       "    <tr style=\"text-align: right;\">\n",
       "      <th></th>\n",
       "      <th>pid</th>\n",
       "      <th>pid_info</th>\n",
       "      <th>host_id</th>\n",
       "      <th>timestamp</th>\n",
       "      <th>cpu_percentage</th>\n",
       "      <th>memory_percentage</th>\n",
       "      <th>user</th>\n",
       "      <th>created_at</th>\n",
       "      <th>cmd</th>\n",
       "      <th>cpu_time</th>\n",
       "      <th>status</th>\n",
       "    </tr>\n",
       "  </thead>\n",
       "  <tbody>\n",
       "    <tr>\n",
       "      <th>0</th>\n",
       "      <td>4164634</td>\n",
       "      <td>8.9  1.6 root     Ssl  Jan 18 271:42 /usr/loc...</td>\n",
       "      <td>teach2</td>\n",
       "      <td>2024-01-29 13:37:27</td>\n",
       "      <td>1.6</td>\n",
       "      <td>8.9</td>\n",
       "      <td>root</td>\n",
       "      <td>Jan 18</td>\n",
       "      <td>/usr/local/bin/python -m ipykernel_launcher -f...</td>\n",
       "      <td>271:42</td>\n",
       "      <td>Ssl</td>\n",
       "    </tr>\n",
       "    <tr>\n",
       "      <th>1</th>\n",
       "      <td>441525</td>\n",
       "      <td>0.8 13.1 root     Ssl  Jan 26 609:36 /usr/loc...</td>\n",
       "      <td>teach2</td>\n",
       "      <td>2024-01-29 13:37:27</td>\n",
       "      <td>13.1</td>\n",
       "      <td>0.8</td>\n",
       "      <td>root</td>\n",
       "      <td>Jan 26</td>\n",
       "      <td>/usr/local/bin/python -m ipykernel_launcher -f...</td>\n",
       "      <td>609:36</td>\n",
       "      <td>Ssl</td>\n",
       "    </tr>\n",
       "    <tr>\n",
       "      <th>2</th>\n",
       "      <td>1823085</td>\n",
       "      <td>0.9 55.5 joerg    Ssl   13:00  20:45 /usr/bin...</td>\n",
       "      <td>teach3</td>\n",
       "      <td>2024-01-29 13:37:28</td>\n",
       "      <td>55.5</td>\n",
       "      <td>0.9</td>\n",
       "      <td>joerg</td>\n",
       "      <td>13:00 20:45</td>\n",
       "      <td>-m ipykernel_launcher -f /root/.local/share/ju...</td>\n",
       "      <td>/usr/bin/python3</td>\n",
       "      <td>Ssl</td>\n",
       "    </tr>\n",
       "    <tr>\n",
       "      <th>3</th>\n",
       "      <td>1823085</td>\n",
       "      <td>0.9 55.5 joerg    Ssl   13:00  20:45 /usr/bin...</td>\n",
       "      <td>teach3</td>\n",
       "      <td>2024-01-29 13:37:28</td>\n",
       "      <td>55.5</td>\n",
       "      <td>0.9</td>\n",
       "      <td>joerg</td>\n",
       "      <td>13:00 20:45</td>\n",
       "      <td>-m ipykernel_launcher -f /root/.local/share/ju...</td>\n",
       "      <td>/usr/bin/python3</td>\n",
       "      <td>Ssl</td>\n",
       "    </tr>\n",
       "    <tr>\n",
       "      <th>4</th>\n",
       "      <td>4164634</td>\n",
       "      <td>8.9  1.6 root     Ssl  Jan 18 271:42 /usr/loc...</td>\n",
       "      <td>teach2</td>\n",
       "      <td>2024-01-29 13:44:56</td>\n",
       "      <td>1.6</td>\n",
       "      <td>8.9</td>\n",
       "      <td>root</td>\n",
       "      <td>Jan 18</td>\n",
       "      <td>/usr/local/bin/python -m ipykernel_launcher -f...</td>\n",
       "      <td>271:42</td>\n",
       "      <td>Ssl</td>\n",
       "    </tr>\n",
       "  </tbody>\n",
       "</table>\n",
       "</div>"
      ],
      "text/plain": [
       "       pid                                           pid_info host_id  \\\n",
       "0  4164634   8.9  1.6 root     Ssl  Jan 18 271:42 /usr/loc...  teach2   \n",
       "1   441525   0.8 13.1 root     Ssl  Jan 26 609:36 /usr/loc...  teach2   \n",
       "2  1823085   0.9 55.5 joerg    Ssl   13:00  20:45 /usr/bin...  teach3   \n",
       "3  1823085   0.9 55.5 joerg    Ssl   13:00  20:45 /usr/bin...  teach3   \n",
       "4  4164634   8.9  1.6 root     Ssl  Jan 18 271:42 /usr/loc...  teach2   \n",
       "\n",
       "             timestamp  cpu_percentage  memory_percentage   user   created_at  \\\n",
       "0  2024-01-29 13:37:27             1.6                8.9   root       Jan 18   \n",
       "1  2024-01-29 13:37:27            13.1                0.8   root       Jan 26   \n",
       "2  2024-01-29 13:37:28            55.5                0.9  joerg  13:00 20:45   \n",
       "3  2024-01-29 13:37:28            55.5                0.9  joerg  13:00 20:45   \n",
       "4  2024-01-29 13:44:56             1.6                8.9   root       Jan 18   \n",
       "\n",
       "                                                 cmd          cpu_time status  \n",
       "0  /usr/local/bin/python -m ipykernel_launcher -f...            271:42    Ssl  \n",
       "1  /usr/local/bin/python -m ipykernel_launcher -f...            609:36    Ssl  \n",
       "2  -m ipykernel_launcher -f /root/.local/share/ju...  /usr/bin/python3    Ssl  \n",
       "3  -m ipykernel_launcher -f /root/.local/share/ju...  /usr/bin/python3    Ssl  \n",
       "4  /usr/local/bin/python -m ipykernel_launcher -f...            271:42    Ssl  "
      ]
     },
     "execution_count": 16,
     "metadata": {},
     "output_type": "execute_result"
    }
   ],
   "source": [
    "process_infos.head()"
   ]
  },
  {
   "cell_type": "code",
   "execution_count": 4,
   "metadata": {},
   "outputs": [
    {
     "data": {
      "text/html": [
       "<div>\n",
       "<style scoped>\n",
       "    .dataframe tbody tr th:only-of-type {\n",
       "        vertical-align: middle;\n",
       "    }\n",
       "\n",
       "    .dataframe tbody tr th {\n",
       "        vertical-align: top;\n",
       "    }\n",
       "\n",
       "    .dataframe thead th {\n",
       "        text-align: right;\n",
       "    }\n",
       "</style>\n",
       "<table border=\"1\" class=\"dataframe\">\n",
       "  <thead>\n",
       "    <tr style=\"text-align: right;\">\n",
       "      <th></th>\n",
       "      <th>pid</th>\n",
       "      <th>gpu_memory</th>\n",
       "      <th>host_id</th>\n",
       "      <th>timestamp</th>\n",
       "    </tr>\n",
       "  </thead>\n",
       "  <tbody>\n",
       "    <tr>\n",
       "      <th>0</th>\n",
       "      <td>4164634</td>\n",
       "      <td>1711 MiB</td>\n",
       "      <td>teach2</td>\n",
       "      <td>2024-01-29 13:37:27</td>\n",
       "    </tr>\n",
       "    <tr>\n",
       "      <th>1</th>\n",
       "      <td>441525</td>\n",
       "      <td>1887 MiB</td>\n",
       "      <td>teach2</td>\n",
       "      <td>2024-01-29 13:37:27</td>\n",
       "    </tr>\n",
       "    <tr>\n",
       "      <th>2</th>\n",
       "      <td>1823085</td>\n",
       "      <td>80890 MiB</td>\n",
       "      <td>teach3</td>\n",
       "      <td>2024-01-29 13:37:28</td>\n",
       "    </tr>\n",
       "    <tr>\n",
       "      <th>3</th>\n",
       "      <td>1823085</td>\n",
       "      <td>30566 MiB</td>\n",
       "      <td>teach3</td>\n",
       "      <td>2024-01-29 13:37:28</td>\n",
       "    </tr>\n",
       "    <tr>\n",
       "      <th>4</th>\n",
       "      <td>4164634</td>\n",
       "      <td>1711 MiB</td>\n",
       "      <td>teach2</td>\n",
       "      <td>2024-01-29 13:44:56</td>\n",
       "    </tr>\n",
       "  </tbody>\n",
       "</table>\n",
       "</div>"
      ],
      "text/plain": [
       "       pid gpu_memory host_id            timestamp\n",
       "0  4164634   1711 MiB  teach2  2024-01-29 13:37:27\n",
       "1   441525   1887 MiB  teach2  2024-01-29 13:37:27\n",
       "2  1823085  80890 MiB  teach3  2024-01-29 13:37:28\n",
       "3  1823085  30566 MiB  teach3  2024-01-29 13:37:28\n",
       "4  4164634   1711 MiB  teach2  2024-01-29 13:44:56"
      ]
     },
     "execution_count": 4,
     "metadata": {},
     "output_type": "execute_result"
    }
   ],
   "source": [
    "gpu_infos.head()"
   ]
  },
  {
   "cell_type": "code",
   "execution_count": null,
   "metadata": {},
   "outputs": [],
   "source": [
    "# TODO: Parse types of timestamp and floats"
   ]
  },
  {
   "cell_type": "markdown",
   "metadata": {},
   "source": [
    "## Analyse Data\n",
    "Interesting analysis questions include:\n",
    "* In which context do gpu intensive programs run?\n",
    "* How is gpu usage distributed? (visualize over time)\n",
    "* Which resources do gpu-using processes also use? (memory, cpu)\n",
    "* ¬¬¬¬¬¬"
   ]
  },
  {
   "cell_type": "code",
   "execution_count": null,
   "metadata": {},
   "outputs": [],
   "source": []
  }
 ],
 "metadata": {
  "kernelspec": {
   "display_name": "Python 3 (ipykernel)",
   "language": "python",
   "name": "python3"
  },
  "language_info": {
   "codemirror_mode": {
    "name": "ipython",
    "version": 3
   },
   "file_extension": ".py",
   "mimetype": "text/x-python",
   "name": "python",
   "nbconvert_exporter": "python",
   "pygments_lexer": "ipython3",
   "version": "3.11.3"
  }
 },
 "nbformat": 4,
 "nbformat_minor": 4
}
